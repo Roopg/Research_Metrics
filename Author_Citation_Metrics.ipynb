{
  "cells": [
    {
      "cell_type": "markdown",
      "metadata": {
        "id": "view-in-github",
        "colab_type": "text"
      },
      "source": [
        "<a href=\"https://colab.research.google.com/github/Roopg/Research_Metrics/blob/main/Author_Citation_Metrics.ipynb\" target=\"_parent\"><img src=\"https://colab.research.google.com/assets/colab-badge.svg\" alt=\"Open In Colab\"/></a>"
      ]
    },
    {
      "cell_type": "markdown",
      "id": "db6982eb",
      "metadata": {
        "id": "db6982eb"
      },
      "source": [
        "\n",
        "\n",
        "#### Objective:\n",
        "\n",
        "Author metrics are used to quantify the reach and impact of a researcher's publications.\n",
        "\n",
        "Calculate the following citation metrics for an author-\n",
        "\n",
        "* Citations\n",
        "* i10-index\n",
        "* h-index\n",
        "\n",
        "\n",
        "Input:  A list of citations for a particular authors citations. \n",
        "\n",
        "Output: Citations, i10-index, h-index"
      ]
    },
    {
      "cell_type": "markdown",
      "id": "accd266b",
      "metadata": {
        "id": "accd266b"
      },
      "source": [
        "#### Citations Metric\n",
        "\n",
        "* This is the total number of citations an author receives on all his publications."
      ]
    },
    {
      "cell_type": "code",
      "execution_count": null,
      "id": "51c32261",
      "metadata": {
        "id": "51c32261",
        "outputId": "cfa07a9c-63bd-4603-961a-81b90c4c4a63"
      },
      "outputs": [
        {
          "data": {
            "text/plain": [
              "168"
            ]
          },
          "execution_count": 55,
          "metadata": {},
          "output_type": "execute_result"
        }
      ],
      "source": [
        "def citations(A):\n",
        "    return sum(auth_cit_num)\n",
        "\n",
        "citations([34,12,11,23,20,45,1,22])"
      ]
    },
    {
      "cell_type": "markdown",
      "id": "355f2e12",
      "metadata": {
        "id": "355f2e12"
      },
      "source": [
        "So total citations for this author is 168."
      ]
    },
    {
      "cell_type": "markdown",
      "id": "37e19c1a",
      "metadata": {
        "id": "37e19c1a"
      },
      "source": [
        "#### i10-Index Metric\n",
        "* The number of publications with at least 10 citations. "
      ]
    },
    {
      "cell_type": "code",
      "execution_count": null,
      "id": "fcc955b9",
      "metadata": {
        "id": "fcc955b9",
        "outputId": "c94cde08-d27e-4a01-dfac-5fef09c9205f"
      },
      "outputs": [
        {
          "data": {
            "text/plain": [
              "7"
            ]
          },
          "execution_count": 56,
          "metadata": {},
          "output_type": "execute_result"
        }
      ],
      "source": [
        "def i10_index(A):\n",
        "    N=len(citation_list)\n",
        "    i10=0\n",
        "    for i in range(N):\n",
        "        if A[i]>=10:\n",
        "            i10=i10+1\n",
        "    return i10\n",
        "\n",
        "i10_index([34,12,11,23,20,45,1,22])"
      ]
    },
    {
      "cell_type": "markdown",
      "id": "8a26c2c1",
      "metadata": {
        "id": "8a26c2c1"
      },
      "source": [
        "#### h-index or Hirsch index Metric\n",
        "\n",
        "The h-index is the largest number h such that h publication have at least h citations each. \n",
        "\n",
        "For example, if an author has five publications, with 11, 17, 8, 2, and 1 citations (ordered from greatest to least), then the author's h-index is 3, because the author has three publications with 3 or more citations. \n",
        "\n",
        "Important Note: An author's h-index can only be as great as their number of publications. So if an author has N publications, h-index can not be more than N.\n"
      ]
    },
    {
      "cell_type": "markdown",
      "id": "30db9974",
      "metadata": {
        "id": "30db9974"
      },
      "source": [
        "#### Approach 1: Sorting and Linear traversal\n",
        "\n",
        "* Time Complexity: O(NlogN) \n",
        "* Space Complexity: O(N)"
      ]
    },
    {
      "cell_type": "code",
      "execution_count": null,
      "id": "686c0fa3",
      "metadata": {
        "id": "686c0fa3",
        "outputId": "3a1f8c48-3e57-480a-ac4b-4f31ac0113a0"
      },
      "outputs": [
        {
          "data": {
            "text/plain": [
              "7"
            ]
          },
          "execution_count": 48,
          "metadata": {},
          "output_type": "execute_result"
        }
      ],
      "source": [
        "def hIndex_linear(citation_list):\n",
        "    N=len(citation_list)\n",
        "    h_index = 0\n",
        "\n",
        "    # Step1: Sort the citation list in descending order\n",
        "    citation_list.sort()\n",
        "\n",
        "\n",
        "    #Step 2: Linearly traverse the list to compare how many papers are there with citations >= ith citation\n",
        "    for i in range(N):  #0-7\n",
        "        if citation_list[i]>=N-i:\n",
        "            h_index=N-i# As we sorted the citation list in step 1, we know for a paper i, there are N-i papers that have citations same or more than itself.\n",
        "            break\n",
        "            \n",
        "    return h_index\n",
        "\n",
        "hIndex_linear([34,12,11,23,20,45,1,22])\n"
      ]
    },
    {
      "cell_type": "markdown",
      "id": "0f7a5d27",
      "metadata": {
        "id": "0f7a5d27"
      },
      "source": [
        "#### Approach 2 : Sorting and Binary Search\n",
        "\n",
        "* Time Complexity: O(NlogN) + O(logN)= O(nlogN)   *Search space reduced to half at each step.\n",
        "* Space Complexity: O(1)"
      ]
    },
    {
      "cell_type": "code",
      "execution_count": null,
      "id": "e1fe34c4",
      "metadata": {
        "id": "e1fe34c4",
        "outputId": "2521d6fc-8056-4245-b00c-20eb3d1fb1f2"
      },
      "outputs": [
        {
          "data": {
            "text/plain": [
              "7"
            ]
          },
          "execution_count": 50,
          "metadata": {},
          "output_type": "execute_result"
        }
      ],
      "source": [
        "def hIndex_Binary(citation_list):\n",
        "    \n",
        "    citation_list.sort()\n",
        "    N=len(citation_list)\n",
        "    low=0\n",
        "    mid=0\n",
        "    h=0\n",
        "    high=N-1\n",
        "    h_index=0\n",
        "\n",
        "    while(low<=high):\n",
        "        mid=(low+high)//2\n",
        "        if citation_list[mid]>=N-mid:\n",
        "            h_index=N-mid\n",
        "            high=mid-1 #search in the left as h_index will have higher value in N-i range (as i will be smaller)\n",
        "        else:\n",
        "            low=mid+1 # else we search on the right.\n",
        "    return h_index\n",
        "\n",
        "\n",
        "hIndex_Binary([34,12,11,23,20,45,1,22])"
      ]
    },
    {
      "cell_type": "markdown",
      "id": "6c552bf0",
      "metadata": {
        "id": "6c552bf0"
      },
      "source": [
        "#### Approach 3 : Prefix Sum and Contribution technique\n",
        "\n",
        "* Time Complexity: O(N)\n",
        "* Space Complexity: O(N)\n",
        "* No sorting required\n",
        "* Prefix Sum Array and Carry Forward Technique"
      ]
    },
    {
      "cell_type": "code",
      "execution_count": null,
      "id": "f40e841c",
      "metadata": {
        "id": "f40e841c",
        "outputId": "10133b40-0aa2-4455-b90e-559402b92f27"
      },
      "outputs": [
        {
          "name": "stdout",
          "output_type": "stream",
          "text": [
            "h-index_array is [0, 1, 0, 0, 0, 0, 0, 7, 7]\n",
            "h-index_array is [0, 1, 0, 0, 0, 0, 7, 7, 7]\n",
            "Author with 8 publications has a h_index value of 7\n"
          ]
        }
      ],
      "source": [
        "def hIndex_prefixsum(citation_list):\n",
        "    \n",
        "    \"\"\"\n",
        "    Step 1: Compute number of publications\n",
        "    \"\"\"\n",
        "\n",
        "    N=len(citation_list)\n",
        "\n",
        "    \"\"\"\n",
        "    Step 2: Create a empty prefix sum array that holds the posisble h_index values in the range [0,N]\n",
        "    \"\"\"\n",
        "    \n",
        "    hindex_array=[0]*(N+1)\n",
        "   \n",
        "    \n",
        "    \"\"\"\n",
        "    # Step 3: Traverse over the citation list and for each citation, if the citation is >= N\n",
        "     # then we add the h_index value to the element in the prefix sum array.\n",
        "    \"\"\"\n",
        "     \n",
        "    for c in citation_list:\n",
        "        if c>=N:\n",
        "            hindex_array[N]=hindex_array[N]+1 \n",
        "        else:\n",
        "            hindex_array[c]=hindex_array[c]+1\n",
        "    \"\"\"\n",
        "    Step 4 : Assign the h_index to the total number of publications that an author has published (N). \n",
        "    \"\"\"\n",
        "    h_index= N\n",
        "    \n",
        "    \"\"\"\"\n",
        "    Step 5: As each publication i can contribute to a possible value of h_index and it’s lower values, we sum up the counts in h_index array\n",
        "    (prefix sum array) from reverse, and start iterating from the end of the h_index array and pick the first element for which the number of citations is greater or \n",
        "    equal than h_index.\n",
        "    \"\"\"\n",
        "    \n",
        "    while h_index>=1:\n",
        "        hindex_array[h_index-1]+=hindex_array[h_index]\n",
        "        print(f\"h-index_array is {hindex_array}\")\n",
        "\n",
        "        if hindex_array[h_index]>=h_index:\n",
        "            break\n",
        "        else:\n",
        "            h_index-=1\n",
        "\n",
        "    print(f\"Author with {N} publications has a h_index value of {h_index}\")\n",
        "\n",
        "    \n",
        "hIndex_prefixsum([34,12,11,23,20,45,1,22])   \n",
        "\n",
        "    "
      ]
    },
    {
      "cell_type": "markdown",
      "id": "25d7bfdb",
      "metadata": {
        "id": "25d7bfdb"
      },
      "source": [
        "### Conclusion:\n",
        "\n",
        "We discussed three approaches above to compute the h_index of a particular author. Out of these the third approach using prefix sum and carry forward technique is the most efficient approach in terms of time and space complexity.\n"
      ]
    },
    {
      "cell_type": "code",
      "execution_count": null,
      "id": "19de229f",
      "metadata": {
        "id": "19de229f",
        "outputId": "ce0a7019-4221-48b5-d634-3f946497c2e9"
      },
      "outputs": [
        {
          "name": "stdout",
          "output_type": "stream",
          "text": [
            "[NbConvertApp] Converting notebook Author_Citation_Metrics.ipynb to pdf\n",
            "[NbConvertApp] Writing 32760 bytes to notebook.tex\n",
            "[NbConvertApp] Building PDF\n",
            "[NbConvertApp] Running xelatex 3 times: ['xelatex', 'notebook.tex', '-quiet']\n",
            "[NbConvertApp] Running bibtex 1 time: ['bibtex', 'notebook']\n",
            "[NbConvertApp] WARNING | bibtex had problems, most likely because there were no citations\n",
            "[NbConvertApp] PDF successfully created\n",
            "[NbConvertApp] Writing 46810 bytes to Author_Citation_Metrics.pdf\n"
          ]
        }
      ],
      "source": [
        "!jupyter nbconvert \"Author_Citation_Metrics.ipynb\" --to pdf"
      ]
    },
    {
      "cell_type": "code",
      "execution_count": null,
      "id": "3da36ad9",
      "metadata": {
        "id": "3da36ad9"
      },
      "outputs": [],
      "source": [
        ""
      ]
    }
  ],
  "metadata": {
    "kernelspec": {
      "display_name": "Python 3 (ipykernel)",
      "language": "python",
      "name": "python3"
    },
    "language_info": {
      "codemirror_mode": {
        "name": "ipython",
        "version": 3
      },
      "file_extension": ".py",
      "mimetype": "text/x-python",
      "name": "python",
      "nbconvert_exporter": "python",
      "pygments_lexer": "ipython3",
      "version": "3.9.7"
    },
    "colab": {
      "name": "Author_Citation_Metrics.ipynb",
      "provenance": [],
      "include_colab_link": true
    }
  },
  "nbformat": 4,
  "nbformat_minor": 5
}